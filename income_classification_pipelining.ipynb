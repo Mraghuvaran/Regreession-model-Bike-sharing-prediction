{
  "nbformat": 4,
  "nbformat_minor": 0,
  "metadata": {
    "colab": {
      "name": "income_classification_pipelining.ipynb",
      "version": "0.3.2",
      "provenance": [],
      "private_outputs": true,
      "include_colab_link": true
    },
    "kernelspec": {
      "name": "python3",
      "display_name": "Python 3"
    },
    "accelerator": "GPU"
  },
  "cells": [
    {
      "cell_type": "markdown",
      "metadata": {
        "id": "view-in-github",
        "colab_type": "text"
      },
      "source": [
        "<a href=\"https://colab.research.google.com/github/Mraghuvaran/Regreession-models/blob/master/income_classification_pipelining.ipynb\" target=\"_parent\"><img src=\"https://colab.research.google.com/assets/colab-badge.svg\" alt=\"Open In Colab\"/></a>"
      ]
    },
    {
      "cell_type": "code",
      "metadata": {
        "id": "DtPSy1PYzn53",
        "colab_type": "code",
        "colab": {}
      },
      "source": [
        "from google.colab import drive\n",
        "drive.mount('/content/drive')"
      ],
      "execution_count": 0,
      "outputs": []
    },
    {
      "cell_type": "code",
      "metadata": {
        "id": "y0SZ0lEq0E3e",
        "colab_type": "code",
        "colab": {}
      },
      "source": [
        "import numpy as np \n",
        "import pandas as pd "
      ],
      "execution_count": 0,
      "outputs": []
    },
    {
      "cell_type": "code",
      "metadata": {
        "id": "Jf_b3q6L0pjU",
        "colab_type": "code",
        "colab": {}
      },
      "source": [
        "train = pd.read_csv(\"/content/drive/My Drive/Colab Notebooks/Income Dataset/train_data.csv\")\n",
        "test = pd.read_csv(\"/content/drive/My Drive/Colab Notebooks/Income Dataset/test_data.csv\")"
      ],
      "execution_count": 0,
      "outputs": []
    },
    {
      "cell_type": "code",
      "metadata": {
        "id": "gQtmDgNr0unD",
        "colab_type": "code",
        "colab": {}
      },
      "source": [
        "train.head()"
      ],
      "execution_count": 0,
      "outputs": []
    },
    {
      "cell_type": "code",
      "metadata": {
        "id": "BNkbdIll0wD-",
        "colab_type": "code",
        "colab": {}
      },
      "source": [
        "test.head()"
      ],
      "execution_count": 0,
      "outputs": []
    },
    {
      "cell_type": "code",
      "metadata": {
        "id": "XoZlGykMZ9P4",
        "colab_type": "code",
        "colab": {}
      },
      "source": [
        "train.gain.value_counts()"
      ],
      "execution_count": 0,
      "outputs": []
    },
    {
      "cell_type": "code",
      "metadata": {
        "id": "pKUWb_Zo0xf5",
        "colab_type": "code",
        "colab": {}
      },
      "source": [
        "#dropping the columns which are not useful \n",
        "train.drop(columns= ['index','tax_paid'], axis=1, inplace=True)\n",
        "\n",
        "\n",
        "#test data columns removal \n",
        "\n",
        "test.drop(columns= ['index','tax_paid'], axis=1, inplace=True)\n",
        "\n"
      ],
      "execution_count": 0,
      "outputs": []
    },
    {
      "cell_type": "code",
      "metadata": {
        "id": "_L5qcZnX1oZX",
        "colab_type": "code",
        "colab": {}
      },
      "source": [
        "train.shape"
      ],
      "execution_count": 0,
      "outputs": []
    },
    {
      "cell_type": "code",
      "metadata": {
        "id": "uBzIn6Od1qhD",
        "colab_type": "code",
        "colab": {}
      },
      "source": [
        "test.shape"
      ],
      "execution_count": 0,
      "outputs": []
    },
    {
      "cell_type": "code",
      "metadata": {
        "id": "Rx7zNodx1sZC",
        "colab_type": "code",
        "colab": {}
      },
      "source": [
        "train.dtypes"
      ],
      "execution_count": 0,
      "outputs": []
    },
    {
      "cell_type": "code",
      "metadata": {
        "id": "fJbrRj2o1zFn",
        "colab_type": "code",
        "colab": {}
      },
      "source": [
        "#converting objects to categories \n",
        "for col in ['working_sector','qualification','years_of_education','loan_taken','marital_status','occupation','relationship','ethnicity','gender',\n",
        "            'country','target']:\n",
        "  train[col] = train[col].astype('category')\n"
      ],
      "execution_count": 0,
      "outputs": []
    },
    {
      "cell_type": "code",
      "metadata": {
        "id": "3rxqRMi02t3I",
        "colab_type": "code",
        "colab": {}
      },
      "source": [
        "cat_attr = list(train.select_dtypes(\"category\").columns)\n",
        "num_attr = list(train.columns.difference(cat_attr))\n",
        "\n",
        "cat_attr.pop()"
      ],
      "execution_count": 0,
      "outputs": []
    },
    {
      "cell_type": "code",
      "metadata": {
        "id": "ZJIZW1By3TVi",
        "colab_type": "code",
        "colab": {}
      },
      "source": [
        "cat_attr"
      ],
      "execution_count": 0,
      "outputs": []
    },
    {
      "cell_type": "code",
      "metadata": {
        "id": "koKyDfH53gSY",
        "colab_type": "code",
        "colab": {}
      },
      "source": [
        "num_attr"
      ],
      "execution_count": 0,
      "outputs": []
    },
    {
      "cell_type": "code",
      "metadata": {
        "id": "rm1a_xKf3huN",
        "colab_type": "code",
        "colab": {}
      },
      "source": [
        "# print columns with missing values\n",
        "missing_cols = train.columns[train.isnull().any()]\n",
        "print(missing_cols)"
      ],
      "execution_count": 0,
      "outputs": []
    },
    {
      "cell_type": "code",
      "metadata": {
        "id": "cpcKcUD43ocy",
        "colab_type": "code",
        "colab": {}
      },
      "source": [
        "import numpy as np\n",
        "import pandas as pd\n",
        "\n",
        "from sklearn import preprocessing\n",
        "from sklearn.impute import SimpleImputer\n",
        "\n",
        "from sklearn.compose import ColumnTransformer\n",
        "\n",
        "from sklearn.preprocessing import StandardScaler\n",
        "from sklearn.preprocessing import OneHotEncoder\n",
        "from sklearn.model_selection import train_test_split\n",
        "from sklearn.pipeline import Pipeline\n",
        "from sklearn.model_selection import GridSearchCV, cross_val_score, StratifiedKFold\n",
        "\n",
        "from sklearn.tree import DecisionTreeClassifier\n",
        "from sklearn.ensemble import RandomForestClassifier\n",
        "from sklearn.svm import SVC\n",
        "from sklearn.linear_model import LogisticRegression\n",
        "\n",
        "from sklearn.ensemble import GradientBoostingClassifier\n",
        "from sklearn.ensemble import AdaBoostClassifier\n",
        "from sklearn.metrics import confusion_matrix\n",
        "\n",
        "import matplotlib.pyplot as plt\n",
        "import seaborn as sns\n",
        "from imblearn.over_sampling import SMOTE\n",
        "from sklearn.metrics import accuracy_score, recall_score, precision_score\n",
        "\n",
        "import warnings\n",
        "warnings.filterwarnings('ignore')"
      ],
      "execution_count": 0,
      "outputs": []
    },
    {
      "cell_type": "code",
      "metadata": {
        "id": "kDO7rLTR5vNR",
        "colab_type": "code",
        "colab": {}
      },
      "source": [
        "numeric_transformer = Pipeline(steps=[\n",
        "    ('imputer', SimpleImputer(strategy='median')),\n",
        "    ('scaler', StandardScaler())])\n",
        "\n",
        "\n",
        "categorical_transformer = Pipeline(steps=[\n",
        "    ('imputer', SimpleImputer(strategy='most_frequent', fill_value='missing')),\n",
        "    ('onehot', OneHotEncoder(handle_unknown='ignore'))])\n",
        "\n",
        "preprocessor = ColumnTransformer(\n",
        "    transformers=[\n",
        "        ('num', numeric_transformer, num_attr),\n",
        "        ('cat', categorical_transformer, cat_attr)])"
      ],
      "execution_count": 0,
      "outputs": []
    },
    {
      "cell_type": "code",
      "metadata": {
        "id": "Oob3DOnq6D0x",
        "colab_type": "code",
        "colab": {}
      },
      "source": [
        "clf_logreg = Pipeline(steps=[('preprocessor', preprocessor),\n",
        "                      ('classifier', LogisticRegression())])"
      ],
      "execution_count": 0,
      "outputs": []
    },
    {
      "cell_type": "code",
      "metadata": {
        "id": "6nlBRMor6NWU",
        "colab_type": "code",
        "colab": {}
      },
      "source": [
        "#splitting the dat into train & validation data \n",
        "X_train, Y_train = train.loc[:,train.columns!='target'], train.loc[:,'target']\n",
        "\n",
        "X_test = test"
      ],
      "execution_count": 0,
      "outputs": []
    },
    {
      "cell_type": "code",
      "metadata": {
        "id": "8JimfgDp-9Ks",
        "colab_type": "code",
        "colab": {}
      },
      "source": [
        "#splitting the train data into validation part. \n",
        "x_train, x_test, y_train, y_test = train_test_split(X_train, Y_train, random_state=12, stratify =Y_train)"
      ],
      "execution_count": 0,
      "outputs": []
    },
    {
      "cell_type": "code",
      "metadata": {
        "id": "-7lEkLF28lSm",
        "colab_type": "code",
        "colab": {}
      },
      "source": [
        "### _Build Logistic Regression Model - 1_\n",
        "\n",
        "clf_logreg.fit(x_train, y_train)"
      ],
      "execution_count": 0,
      "outputs": []
    },
    {
      "cell_type": "code",
      "metadata": {
        "id": "ndMM8M1k8t37",
        "colab_type": "code",
        "colab": {}
      },
      "source": [
        "train_pred = clf_logreg.predict(x_train)\n",
        "test_pred = clf_logreg.predict(x_test)\n",
        "\n",
        "print(accuracy_score(y_true= y_train, y_pred=train_pred))\n",
        "print(accuracy_score(y_true=y_test, y_pred = test_pred))"
      ],
      "execution_count": 0,
      "outputs": []
    },
    {
      "cell_type": "code",
      "metadata": {
        "id": "UlARCcwkCtx0",
        "colab_type": "code",
        "colab": {}
      },
      "source": [
        "### _Build Decision Tree Model - 2_\n",
        "\n",
        "%%time\n",
        "clf_dt = Pipeline(steps=[('preprocessor', preprocessor),\n",
        "                      ('classifier', DecisionTreeClassifier())])\n",
        "\n",
        "dt_param_grid = {'classifier__criterion': ['entropy', 'gini'], 'classifier__max_depth': [6,8,10,12], \n",
        "                 \"classifier__min_samples_split\": [2, 10, 20],\"classifier__min_samples_leaf\": [1, 5, 10]}\n",
        "\n",
        "dt_grid = GridSearchCV(clf_dt, param_grid=dt_param_grid, cv=5)\n",
        "\n",
        "dt_grid.fit(x_train,y_train)\n",
        "\n",
        "print(dt_grid.best_params_)\n",
        "\n",
        "train_pred = dt_grid.predict(x_train)\n",
        "test_pred = dt_grid.predict(x_test)\n",
        "\n",
        "print(dt_grid.score(x_train, y_train))\n",
        "print(dt_grid.score(x_test, y_test))\n"
      ],
      "execution_count": 0,
      "outputs": []
    },
    {
      "cell_type": "code",
      "metadata": {
        "id": "h-M9MbPIC368",
        "colab_type": "code",
        "colab": {}
      },
      "source": [
        "### _Build Random Forest Model - 3_ (Using Stratified KFold)\n",
        "\n",
        "###__Stratified K-Folds cross-validator__\n",
        "\n",
        "## This cross-validation object is a **variation** of KFold that returns stratified folds. The folds are made by **preserving the percentage of samples for each class**.\n",
        "\n",
        "%%time\n",
        "clf = Pipeline(steps=[('preprocessor', preprocessor),\n",
        "                      ('classifier', RandomForestClassifier())])\n",
        "\n",
        "kfold = StratifiedKFold(n_splits=5, shuffle=True, random_state=143)\n",
        "\n",
        "param_grid = {\"classifier__n_estimators\" : [150, 250, 300],\n",
        "              \"classifier__max_depth\" : [5,8,10],\n",
        "              \"classifier__max_features\" : [3, 5, 7],\n",
        "              \"classifier__min_samples_leaf\" : [4, 6, 8, 10]}\n",
        "\n",
        "rf_grid = GridSearchCV(clf, param_grid=dt_param_grid, cv=kfold)\n",
        "\n",
        "\n",
        "rf_grid.fit(x_train,y_train)\n",
        "\n",
        "rf_grid.best_params_\n",
        "\n",
        "train_pred = rf_grid.predict(x_train)\n",
        "test_pred = rf_grid.predict(x_test)\n",
        "\n",
        "print(rf_grid.score(x_train, y_train))\n",
        "print(rf_grid.score(x_test, y_test))\n",
        "\n"
      ],
      "execution_count": 0,
      "outputs": []
    },
    {
      "cell_type": "code",
      "metadata": {
        "id": "gsdUCtEcH23G",
        "colab_type": "code",
        "colab": {}
      },
      "source": [
        "### _Build Gradient Boosting - 4_\n",
        "%%time\n",
        "clf = Pipeline(steps=[('preprocessor', preprocessor),\n",
        "                      ('GBM',GradientBoostingClassifier())])\n",
        "\n",
        "gbm_param_grid = {'GBM__max_depth': [8,10,12,14], 'GBM__subsample': [0.8, 0.6,], 'GBM__max_features':[0.2, 0.3], \n",
        "              'GBM__n_estimators': [10, 20, 30]}\n",
        "\n",
        "gbm_grid = GridSearchCV(clf, param_grid=gbm_param_grid, cv=3)\n",
        "\n",
        "gbm_grid.fit(x_train,y_train)\n",
        "\n",
        "print(gbm_grid.best_params_)\n",
        "\n",
        "train_pred = gbm_grid.predict(x_train)\n",
        "test_pred = gbm_grid.predict(x_test)\n",
        "\n",
        "print(gbm_grid.score(x_train, y_train))\n",
        "print(gbm_grid.score(x_test, y_test))\n"
      ],
      "execution_count": 0,
      "outputs": []
    },
    {
      "cell_type": "code",
      "metadata": {
        "id": "TV_53ColJ9g4",
        "colab_type": "code",
        "colab": {}
      },
      "source": [
        "final_pred = gbm_grid.predict(X_test)"
      ],
      "execution_count": 0,
      "outputs": []
    },
    {
      "cell_type": "code",
      "metadata": {
        "id": "jg6_GH9iMNGp",
        "colab_type": "code",
        "colab": {}
      },
      "source": [
        "final_pred"
      ],
      "execution_count": 0,
      "outputs": []
    },
    {
      "cell_type": "code",
      "metadata": {
        "id": "Wb5rWtMaMO_M",
        "colab_type": "code",
        "colab": {}
      },
      "source": [
        "\n",
        "final_pred = pd.Series(final_pred)"
      ],
      "execution_count": 0,
      "outputs": []
    },
    {
      "cell_type": "code",
      "metadata": {
        "id": "IUiGx75IMi8C",
        "colab_type": "code",
        "colab": {}
      },
      "source": [
        "final_pred.rename(columns= {\"0\":\"target\"})"
      ],
      "execution_count": 0,
      "outputs": []
    },
    {
      "cell_type": "code",
      "metadata": {
        "id": "obqt7puAMtnY",
        "colab_type": "code",
        "colab": {}
      },
      "source": [
        "final_results = pd.read_csv(\"/content/drive/My Drive/Colab Notebooks/Income Dataset/SampleSubmission.csv\")"
      ],
      "execution_count": 0,
      "outputs": []
    },
    {
      "cell_type": "code",
      "metadata": {
        "id": "IN5u9eUvOLL7",
        "colab_type": "code",
        "colab": {}
      },
      "source": [
        "final_results.head()"
      ],
      "execution_count": 0,
      "outputs": []
    },
    {
      "cell_type": "code",
      "metadata": {
        "id": "x6bezZL4ONNZ",
        "colab_type": "code",
        "colab": {}
      },
      "source": [
        "final_results['target']=final_pred\n",
        "#final_submission = pd.concat(final_results, final_pred, join=\"inner\")"
      ],
      "execution_count": 0,
      "outputs": []
    },
    {
      "cell_type": "code",
      "metadata": {
        "id": "S_WK1RxmO11M",
        "colab_type": "code",
        "colab": {}
      },
      "source": [
        "final_results.head()"
      ],
      "execution_count": 0,
      "outputs": []
    },
    {
      "cell_type": "code",
      "metadata": {
        "id": "16-apqo5RMS5",
        "colab_type": "code",
        "colab": {}
      },
      "source": [
        "final_results.to_csv(\"FinalSubmission.csv\", index= False)"
      ],
      "execution_count": 0,
      "outputs": []
    },
    {
      "cell_type": "code",
      "metadata": {
        "id": "DcMkzlTaRZ8p",
        "colab_type": "code",
        "colab": {}
      },
      "source": [
        ""
      ],
      "execution_count": 0,
      "outputs": []
    }
  ]
}