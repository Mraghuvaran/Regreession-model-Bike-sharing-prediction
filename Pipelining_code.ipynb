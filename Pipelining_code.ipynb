{
  "nbformat": 4,
  "nbformat_minor": 0,
  "metadata": {
    "colab": {
      "name": "Pipelining_code.ipynb",
      "version": "0.3.2",
      "provenance": [],
      "collapsed_sections": [],
      "toc_visible": true,
      "include_colab_link": true
    },
    "kernelspec": {
      "name": "python3",
      "display_name": "Python 3"
    },
    "accelerator": "GPU"
  },
  "cells": [
    {
      "cell_type": "markdown",
      "metadata": {
        "id": "view-in-github",
        "colab_type": "text"
      },
      "source": [
        "<a href=\"https://colab.research.google.com/github/Mraghuvaran/Regreession-models/blob/master/Pipelining_code.ipynb\" target=\"_parent\"><img src=\"https://colab.research.google.com/assets/colab-badge.svg\" alt=\"Open In Colab\"/></a>"
      ]
    },
    {
      "cell_type": "markdown",
      "metadata": {
        "id": "sXl534bWu8Vx",
        "colab_type": "text"
      },
      "source": [
        "# Pre-Processing"
      ]
    },
    {
      "cell_type": "code",
      "metadata": {
        "id": "_sUqjUT_wDA6",
        "colab_type": "code",
        "colab": {}
      },
      "source": [
        "from google.colab import drive\n",
        "drive.mount('/content/drive')"
      ],
      "execution_count": 0,
      "outputs": []
    },
    {
      "cell_type": "markdown",
      "metadata": {
        "id": "XAq0ScfztqQG",
        "colab_type": "text"
      },
      "source": [
        "### Converting objects to categories "
      ]
    },
    {
      "cell_type": "code",
      "metadata": {
        "id": "VU8bidfShjK5",
        "colab_type": "code",
        "colab": {}
      },
      "source": [
        "for col in [#pass the list of columns requred to covert into category]:\n",
        "  train[col] = train[col].astype('category')\n"
      ],
      "execution_count": 0,
      "outputs": []
    },
    {
      "cell_type": "code",
      "metadata": {
        "id": "J29wEmb_jVgn",
        "colab_type": "code",
        "colab": {}
      },
      "source": [
        "cat_attr = list(train.select_dtypes(\"category\").columns) #exclude target column inthe list\n",
        "num_attr = list(train.columns.difference(cat_attr))\n",
        "\n",
        "# cat_attr.pop()"
      ],
      "execution_count": 0,
      "outputs": []
    },
    {
      "cell_type": "markdown",
      "metadata": {
        "id": "j5tPmDb8tiS_",
        "colab_type": "text"
      },
      "source": [
        "### Columns with missing values"
      ]
    },
    {
      "cell_type": "code",
      "metadata": {
        "id": "4hPi5WmljVdb",
        "colab_type": "code",
        "colab": {}
      },
      "source": [
        "missing_cols = train.columns[train.isnull().any()]\n",
        "print(missing_cols)"
      ],
      "execution_count": 0,
      "outputs": []
    },
    {
      "cell_type": "markdown",
      "metadata": {
        "id": "ufbnnrritxWe",
        "colab_type": "text"
      },
      "source": [
        "### Importing the Required packages"
      ]
    },
    {
      "cell_type": "code",
      "metadata": {
        "id": "vR1HY3pujVaz",
        "colab_type": "code",
        "colab": {}
      },
      "source": [
        "from sklearn import preprocessing\n",
        "from sklearn.impute import SimpleImputer\n",
        "\n",
        "from sklearn.compose import ColumnTransformer\n",
        "\n",
        "from sklearn.preprocessing import StandardScaler\n",
        "from sklearn.preprocessing import OneHotEncoder\n",
        "from sklearn.model_selection import train_test_split\n",
        "from sklearn.pipeline import Pipeline\n",
        "from sklearn.model_selection import GridSearchCV, cross_val_score, StratifiedKFold\n",
        "\n",
        "from sklearn.tree import DecisionTreeClassifier\n",
        "from sklearn.ensemble import RandomForestClassifier\n",
        "from sklearn.svm import SVC\n",
        "from sklearn.linear_model import LogisticRegression\n",
        "\n",
        "from sklearn.ensemble import GradientBoostingClassifier\n",
        "from sklearn.ensemble import AdaBoostClassifier\n",
        "from sklearn.metrics import confusion_matrix\n",
        "\n",
        "import matplotlib.pyplot as plt\n",
        "import seaborn as sns\n",
        "from imblearn.over_sampling import SMOTE\n",
        "from sklearn.metrics import accuracy_score, recall_score, precision_score\n",
        "\n",
        "\n",
        "import warnings\n",
        "warnings.filterwarnings('ignore')"
      ],
      "execution_count": 0,
      "outputs": []
    },
    {
      "cell_type": "markdown",
      "metadata": {
        "id": "qifyb6Pft6SD",
        "colab_type": "text"
      },
      "source": [
        "### Initiating the pipeline"
      ]
    },
    {
      "cell_type": "code",
      "metadata": {
        "id": "Bf-GDAfWjVY_",
        "colab_type": "code",
        "colab": {}
      },
      "source": [
        "numeric_transformer = Pipeline(steps=[\n",
        "    ('imputer', SimpleImputer(strategy='median')), #change to mode if there are no outliars.\n",
        "    ('scaler', StandardScaler())])\n",
        "\n",
        "\n",
        "categorical_transformer = Pipeline(steps=[\n",
        "    ('imputer', SimpleImputer(strategy='most_frequent', fill_value='missing')),\n",
        "    ('onehot', OneHotEncoder(handle_unknown='ignore'))])\n",
        "\n",
        "preprocessor = ColumnTransformer(\n",
        "    transformers=[\n",
        "        ('num', numeric_transformer, num_attr),\n",
        "        ('cat', categorical_transformer, cat_attr)])"
      ],
      "execution_count": 0,
      "outputs": []
    },
    {
      "cell_type": "code",
      "metadata": {
        "id": "IEcKCi9xjVVw",
        "colab_type": "code",
        "colab": {}
      },
      "source": [
        "clf_logreg = Pipeline(steps=[('preprocessor', preprocessor),\n",
        "                      ('classifier', LogisticRegression())])"
      ],
      "execution_count": 0,
      "outputs": []
    },
    {
      "cell_type": "markdown",
      "metadata": {
        "id": "rJtUvb49t_sP",
        "colab_type": "text"
      },
      "source": [
        "### Splitting the data - Dependent & Independent Variables\n"
      ]
    },
    {
      "cell_type": "code",
      "metadata": {
        "id": "9uwCTr-fjVUE",
        "colab_type": "code",
        "colab": {}
      },
      "source": [
        "X,y = \n",
        "\n",
        "X_test=   test_data"
      ],
      "execution_count": 0,
      "outputs": []
    },
    {
      "cell_type": "code",
      "metadata": {
        "id": "zACaOoPcjVQ5",
        "colab_type": "code",
        "colab": {}
      },
      "source": [
        "#Splitting the data into Train & Validation data\n",
        "\n",
        "x_train, x_val, y_train, y_val = train_test_split(X,y, random_state=12, stratify =y)"
      ],
      "execution_count": 0,
      "outputs": []
    },
    {
      "cell_type": "markdown",
      "metadata": {
        "id": "2Hq4BQRquT2n",
        "colab_type": "text"
      },
      "source": [
        "# Model Building"
      ]
    },
    {
      "cell_type": "markdown",
      "metadata": {
        "id": "U2yHbFd4ll3a",
        "colab_type": "text"
      },
      "source": [
        "## Model-1 -- Logistic Regression Model \n",
        "\n",
        "\n"
      ]
    },
    {
      "cell_type": "code",
      "metadata": {
        "id": "0qCBadF_jVO7",
        "colab_type": "code",
        "colab": {}
      },
      "source": [
        "clf_logreg.fit(x_train, y_train)\n",
        "\n",
        "train_pred_LR = clf_logreg.predict(x_train)\n",
        "val_pred_LR = clf_logreg.predict(x_val)\n",
        "\n",
        "print(\"Train accuarcy: {} .\" .format(accuracy_score(y_true= y_train, y_pred=train_pred_LR)))\n",
        "print(\"Validation Accuracy: {}. \" .format(accuracy_score(y_true=y_test, y_pred = val_pred_LR)))"
      ],
      "execution_count": 0,
      "outputs": []
    },
    {
      "cell_type": "markdown",
      "metadata": {
        "id": "FLW8D-je86FI",
        "colab_type": "text"
      },
      "source": [
        "## Model-2 --Decision Tree Model\n"
      ]
    },
    {
      "cell_type": "code",
      "metadata": {
        "id": "UlARCcwkCtx0",
        "colab_type": "code",
        "colab": {}
      },
      "source": [
        "\n",
        "%%time\n",
        "clf_dt = Pipeline(steps=[('preprocessor', preprocessor),\n",
        "                      ('classifier', DecisionTreeClassifier())])\n",
        "\n",
        "dt_param_grid = {'classifier__criterion': ['entropy', 'gini'],\n",
        "                 'classifier__max_depth': [5,6,7,8,9,10],\n",
        "                 \"classifier__min_samples_split\": [2,5],\n",
        "                 \"classifier__min_samples_leaf\": [1,3,5]}\n",
        "\n",
        "dt_grid = GridSearchCV(clf_dt, param_grid=dt_param_grid, n_jobs=-1, cv=5)\n",
        "\n",
        "dt_grid.fit(x_train,y_train)\n",
        "\n",
        "print(dt_grid.best_params_)\n",
        "\n",
        "train_pred = dt_grid.predict(x_train)\n",
        "test_pred = dt_grid.predict(x_test)\n",
        "\n",
        "print(\"Train Accuracy: {} .\" .format(dt_grid.accuracy_score(x_train, y_train)))\n",
        "print(\"Validation Accuracy: {} .\" .format(dt_grid.accuracy_score(x_test, y_test)))\n"
      ],
      "execution_count": 0,
      "outputs": []
    },
    {
      "cell_type": "markdown",
      "metadata": {
        "colab_type": "text",
        "id": "oYVnGGXPngM2"
      },
      "source": [
        "## Model-3 --Build Random Forest Model (Using Stratified KFold)\n",
        "\n",
        "### __Stratified K-Folds cross-validator__\n",
        "\n",
        "#### This cross-validation object is a **variation** of KFold that returns stratified folds. The folds are made by **preserving the percentage of samples for each class**.\n"
      ]
    },
    {
      "cell_type": "code",
      "metadata": {
        "colab_type": "code",
        "id": "KUZAiINtngMc",
        "colab": {}
      },
      "source": [
        "%%time\n",
        "clf = Pipeline(steps=[('preprocessor', preprocessor),\n",
        "                      ('classifier', RandomForestClassifier())])\n",
        "\n",
        "kfold = StratifiedKFold(n_splits=5, shuffle=True, random_state=143)\n",
        "\n",
        "param_grid = {\"classifier__n_estimators\" : [30,40,50],\n",
        "              \"classifier__max_depth\" : [2,3,5,6],\n",
        "              \"classifier__max_features\" : [3, 5, 7],\n",
        "              \"classifier__min_samples_leaf\" : [4, 6, 8, 10]}\n",
        "\n",
        "rf_grid = GridSearchCV(clf, param_grid=dt_param_grid, cv=kfold)\n",
        "\n",
        "\n",
        "rf_grid.fit(x_train,y_train)\n",
        "\n",
        "print(rf_grid.best_params_)\n",
        "\n",
        "train_pred = rf_grid.predict(x_train)\n",
        "test_pred = rf_grid.predict(x_test)\n",
        "\n",
        "print(\"Train Accuarcy: {} .\" .format(rf_grid.accuracy_score(x_train, y_train)))\n",
        "print(\"Validation accuracy: {} .\" .format(rf_grid.accuracy_score(x_test, y_test)))\n",
        "\n"
      ],
      "execution_count": 0,
      "outputs": []
    },
    {
      "cell_type": "code",
      "metadata": {
        "id": "rtk9ydTkjU7X",
        "colab_type": "code",
        "colab": {}
      },
      "source": [
        ""
      ],
      "execution_count": 0,
      "outputs": []
    },
    {
      "cell_type": "markdown",
      "metadata": {
        "id": "mM4lgW-qrEzn",
        "colab_type": "text"
      },
      "source": [
        "## Model-4 --XGboosting "
      ]
    },
    {
      "cell_type": "code",
      "metadata": {
        "id": "cPeFwqNmqsTe",
        "colab_type": "code",
        "colab": {}
      },
      "source": [
        "import xgboost as xgb\n",
        "from sklearn.model_selection import GridSearchCV"
      ],
      "execution_count": 0,
      "outputs": []
    },
    {
      "cell_type": "code",
      "metadata": {
        "id": "m7ALIVm9qsQK",
        "colab_type": "code",
        "colab": {}
      },
      "source": [
        "\n",
        "%%time\n",
        "clf = Pipeline(steps=[('preprocessor', preprocessor),\n",
        "               ('classifier', xgb.XGBClassifier())])\n",
        "\n",
        "\n",
        "kfold = StratifiedKFold(n_splits=5, shuffle=True, random_state=143)\n",
        "\n",
        "param_grid = {\"classifier__n_estimators\" : [70,100],\n",
        "              \"classifier__max_depth\" : [3,5,6,7],\n",
        "              \"classifier__colsample_bytree\":[0.7,.8],\n",
        "              \"classifier__learning_rate\": [0.001,0.01,0.1],\n",
        "              \"classifier__subsample\":[0.8,0.6]}\n",
        "\n",
        "xg_grid = GridSearchCV(clf, param_grid=param_grid, n_jobs=-1, cv=kfold)\n",
        "\n",
        "\n",
        "xg_grid.fit(x_train,y_train)\n",
        "\n",
        "print(xg_grid.best_params_)\n",
        "\n",
        "train_pred = xg_grid.predict(x_train)\n",
        "test_pred = xg_grid.predict(x_val)\n",
        "\n",
        "print(\"Train Accuracy: {}.\" .format(xg_grid.accuracy_score(x_train, y_train)))\n",
        "print(\"Validation Accuracy: {}.\" .format(xg_grid.accuracy_score(x_val, y_val)))\n"
      ],
      "execution_count": 0,
      "outputs": []
    },
    {
      "cell_type": "code",
      "metadata": {
        "id": "yLF1_a-eqsOV",
        "colab_type": "code",
        "colab": {}
      },
      "source": [
        ""
      ],
      "execution_count": 0,
      "outputs": []
    },
    {
      "cell_type": "markdown",
      "metadata": {
        "id": "gMxIluJH8oZb",
        "colab_type": "text"
      },
      "source": [
        "## Model-5 --Build Gradient Boosting "
      ]
    },
    {
      "cell_type": "code",
      "metadata": {
        "id": "gsdUCtEcH23G",
        "colab_type": "code",
        "outputId": "3d6c22c4-fef0-4bb4-c3cf-4ca127848fa6",
        "colab": {
          "base_uri": "https://localhost:8080/",
          "height": 101
        }
      },
      "source": [
        "\n",
        "%%time\n",
        "clf = Pipeline(steps=[('preprocessor', preprocessor),\n",
        "                      ('GBM',GradientBoostingClassifier())])\n",
        "\n",
        "gbm_param_grid = {'GBM__max_depth': [2,3,4],\n",
        "                  'GBM__subsample': [0.8, 0.6,],\n",
        "                  'GBM__max_features':[0.2, 0.3], \n",
        "                  'GBM__n_estimators': [10, 20, 30]}\n",
        "\n",
        "gbm_grid = GridSearchCV(clf, param_grid=gbm_param_grid, n_jobs =-1, cv=5)\n",
        "\n",
        "gbm_grid.fit(x_train,y_train)\n",
        "\n",
        "print(\"The Best parameters are: {} .\".format(gbm_grid.best_params_))\n",
        "\n",
        "train_pred = gbm_grid.predict(x_train)\n",
        "test_pred = gbm_grid.predict(x_val)\n",
        "\n",
        "print(gbm_grid.score(x_train, y_train))\n",
        "print(gbm_grid.score(x_val, y_val))\n"
      ],
      "execution_count": 0,
      "outputs": [
        {
          "output_type": "stream",
          "text": [
            "{'GBM__max_depth': 4, 'GBM__max_features': 0.2, 'GBM__n_estimators': 30, 'GBM__subsample': 0.8}\n",
            "0.8593077247783875\n",
            "0.8555147524376345\n",
            "CPU times: user 1min 52s, sys: 459 ms, total: 1min 53s\n",
            "Wall time: 1min 53s\n"
          ],
          "name": "stdout"
        }
      ]
    },
    {
      "cell_type": "markdown",
      "metadata": {
        "id": "ZcDK_VkntVUF",
        "colab_type": "text"
      },
      "source": [
        "## Predicting on test Data & storing values."
      ]
    },
    {
      "cell_type": "code",
      "metadata": {
        "id": "MF7rriAosoLD",
        "colab_type": "code",
        "colab": {}
      },
      "source": [
        "best_model_pred = best_model.predict(X_test)\n",
        "\n",
        "print(best_model_pred.shape)\n",
        "\n",
        "sample_sub_file = pd.read_csv(\"#paste the path of the submission file\")\n",
        "\n",
        "sample_sub_file['target'] = best_model_pred\n",
        "\n",
        "sample_sub_file.to_csv(\"final_pred1.csv\", index=False)"
      ],
      "execution_count": 0,
      "outputs": []
    }
  ]
}